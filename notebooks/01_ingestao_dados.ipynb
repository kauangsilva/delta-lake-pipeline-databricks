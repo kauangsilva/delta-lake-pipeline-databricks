{
 "cells": [
  {
   "cell_type": "code",
   "execution_count": 0,
   "metadata": {
    "application/vnd.databricks.v1+cell": {
     "cellMetadata": {
      "byteLimit": 2048000,
      "rowLimit": 10000
     },
     "inputWidgets": {},
     "nuid": "12bf8be5-e9e5-438f-8715-d0658a407b7b",
     "showTitle": false,
     "tableResultSettingsMap": {},
     "title": ""
    }
   },
   "outputs": [],
   "source": [
    "\n",
    "# importação de bibliotecas\n",
    "from pyspark.sql import SparkSession\n",
    "from pyspark.sql.functions import *\n",
    "from pyspark.sql.types import *\n",
    "from delta.tables import *"
   ]
  },
  {
   "cell_type": "code",
   "execution_count": 0,
   "metadata": {
    "application/vnd.databricks.v1+cell": {
     "cellMetadata": {
      "byteLimit": 2048000,
      "rowLimit": 10000
     },
     "inputWidgets": {},
     "nuid": "6a5f5ec3-5a35-4309-b6ee-5130f65f3778",
     "showTitle": false,
     "tableResultSettingsMap": {},
     "title": ""
    }
   },
   "outputs": [
    {
     "output_type": "stream",
     "name": "stdout",
     "output_type": "stream",
     "text": [
      "Vendas: \n+--------+-----------+----------+----------+----------+-----------+-----------+------------+\n|id_venda|id_vendedor|id_produto|data_venda|quantidade|valor_total|canal_venda|status_venda|\n+--------+-----------+----------+----------+----------+-----------+-----------+------------+\n|    1001|        186|       106|2024-01-15|         4|    3565.63|Loja Física|   concluido|\n|    1002|        163|       102|2024-02-16|         2|    2494.31|   Telefone| processando|\n|    1003|        164|       108|2024-03-01|         3|    4122.18|Loja Online| processando|\n|    1004|         43|       103|2024-02-27|         4|    1409.91|   Telefone|   cancelado|\n|    1005|        174|       110|2024-02-23|         5|    1495.46|   Telefone|   cancelado|\n+--------+-----------+----------+----------+----------+-----------+-----------+------------+\nonly showing top 5 rows\nVendedores: \n+---+--------------+--------+-------------+-------+-----------------+-----------+\n| id|          nome|  regiao|data_cadastro| status|nivel_experiencia|meta_mensal|\n+---+--------------+--------+-------------+-------+-----------------+-----------+\n|  1| Beatriz Ramos| Sudeste|   2023-06-25|inativo|            Pleno|   51313.24|\n|  2|  Felipe Gomes|     Sul|   2022-10-09|inativo|            Pleno|   44458.73|\n|  3|Larissa Mendes|Nordeste|   2022-01-21|inativo|           Senior|   29871.06|\n|  4| Ricardo Alves|Nordeste|   2023-06-18|  ativo|           Senior|   54942.56|\n|  5|  Maria Santos|   Norte|   2022-06-04|  ativo|            Pleno|   59244.72|\n+---+--------------+--------+-------------+-------+-----------------+-----------+\nonly showing top 5 rows\nProdutos: \n+---+------------------+-----------+-----------+-----------+-------+------------+------------+\n| id|              nome|  categoria|preco_custo|preco_venda|estoque|data_criacao|categoria_id|\n+---+------------------+-----------+-----------+-----------+-------+------------+------------+\n|101|    Notebook Gamer|Eletrônicos|     2500.0|     3500.0|     15|  2023-01-10|           1|\n|102|Smartphone Premium|Eletrônicos|     1200.0|     2000.0|     30|  2023-02-15|           1|\n|103|   Mesa Escritório|     Móveis|      300.0|      600.0|      8|  2023-03-20|           2|\n|104|Cadeira Ergonômica|     Móveis|      400.0|      800.0|     12|  2023-04-25|           2|\n|105|    Tablet Android|Eletrônicos|      600.0|     1000.0|     20|  2023-05-30|           1|\n+---+------------------+-----------+-----------+-----------+-------+------------+------------+\nonly showing top 5 rows\n"
     ]
    }
   ],
   "source": [
    "# lendo os arquivos CSV do volume de dados\n",
    "df_vendas = spark.read \\\n",
    "    .option(\"header\", \"true\") \\\n",
    "    .option(\"inferSchema\", \"true\") \\\n",
    "    .csv(\"/Volumes/workspace/default/dadosvendas/vendas.csv\")\n",
    "\n",
    "df_vendedores = spark.read \\\n",
    "    .option(\"header\", \"true\") \\\n",
    "    .option(\"inferSchema\", \"true\") \\\n",
    "    .csv(\"/Volumes/workspace/default/dadosvendas/vendedores.csv\")\n",
    "\n",
    "df_produtos = spark.read \\\n",
    "    .option(\"header\", \"true\") \\\n",
    "    .option(\"inferSchema\", \"true\") \\\n",
    "    .csv(\"/Volumes/workspace/default/dadosvendas/produtos.csv\")\n",
    "\n",
    "# verificando se leu corretamente\n",
    "print(\"Vendas: \")\n",
    "df_vendas.show(5)\n",
    "print(\"Vendedores: \")\n",
    "df_vendedores.show(5)\n",
    "print(\"Produtos: \")\n",
    "df_produtos.show(5)"
   ]
  },
  {
   "cell_type": "code",
   "execution_count": 0,
   "metadata": {
    "application/vnd.databricks.v1+cell": {
     "cellMetadata": {
      "byteLimit": 2048000,
      "rowLimit": 10000
     },
     "inputWidgets": {},
     "nuid": "d493694e-1cf5-4362-93f7-3fba58b32f1f",
     "showTitle": false,
     "tableResultSettingsMap": {},
     "title": ""
    }
   },
   "outputs": [],
   "source": [
    "# salvando os dataframes como tabelas Delta Lake\n",
    "df_vendas.write \\\n",
    "    .format(\"delta\") \\\n",
    "    .mode(\"overwrite\") \\\n",
    "    .save(\"/Volumes/workspace/default/dadosvendas/bronze/vendas\")\n",
    "\n",
    "df_vendedores.write \\\n",
    "    .format(\"delta\") \\\n",
    "    .mode(\"overwrite\") \\\n",
    "    .save(\"/Volumes/workspace/default/dadosvendas/bronze/vendedores\")\n",
    "\n",
    "df_produtos.write \\\n",
    "    .format(\"delta\") \\\n",
    "    .mode(\"overwrite\") \\\n",
    "    .save(\"/Volumes/workspace/default/dadosvendas/bronze/produtos\")\n"
   ]
  }
 ],
 "metadata": {
  "application/vnd.databricks.v1+notebook": {
   "computePreferences": {
    "hardware": {
     "accelerator": null,
     "gpuPoolId": null,
     "memory": null
    }
   },
   "dashboards": [],
   "environmentMetadata": {
    "base_environment": "",
    "environment_version": "3"
   },
   "inputWidgetPreferences": null,
   "language": "python",
   "notebookMetadata": {
    "pythonIndentUnit": 4
   },
   "notebookName": "01_ingestao_dados",
   "widgets": {}
  },
  "language_info": {
   "name": "python"
  }
 },
 "nbformat": 4,
 "nbformat_minor": 0
}