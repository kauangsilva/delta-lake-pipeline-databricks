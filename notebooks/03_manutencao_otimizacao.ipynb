{
 "cells": [
  {
   "cell_type": "code",
   "execution_count": 0,
   "metadata": {
    "application/vnd.databricks.v1+cell": {
     "cellMetadata": {
      "byteLimit": 2048000,
      "rowLimit": 10000
     },
     "inputWidgets": {},
     "nuid": "a97046bd-fb13-460e-b298-e584f50331e8",
     "showTitle": false,
     "tableResultSettingsMap": {},
     "title": ""
    }
   },
   "outputs": [],
   "source": [
    "# Importação de bibliotecas\n",
    "from pyspark.sql import SparkSession\n",
    "from pyspark.sql.functions import *"
   ]
  },
  {
   "cell_type": "code",
   "execution_count": 0,
   "metadata": {
    "application/vnd.databricks.v1+cell": {
     "cellMetadata": {
      "byteLimit": 2048000,
      "rowLimit": 10000
     },
     "inputWidgets": {},
     "nuid": "f87cc707-acc8-4b77-91ad-788c0e2c2d84",
     "showTitle": false,
     "tableResultSettingsMap": {},
     "title": ""
    }
   },
   "outputs": [],
   "source": [
    "# carregando os dados\n",
    "vendas_bronze = spark.read.format(\"delta\").load(\"/Volumes/workspace/default/dadosvendas/bronze/vendas\")\n",
    "vendas_silver = spark.read.format(\"delta\").load(\"/Volumes/workspace/default/dadosvendas/silver/vendas_enriquecidas\")\n",
    "vendas_gold = spark.read.format(\"parquet\").load(\"/Volumes/workspace/default/dadosvendas/gold/vendas_consolidadas\")"
   ]
  },
  {
   "cell_type": "code",
   "execution_count": 0,
   "metadata": {
    "application/vnd.databricks.v1+cell": {
     "cellMetadata": {
      "byteLimit": 2048000,
      "rowLimit": 10000
     },
     "inputWidgets": {},
     "nuid": "ba545893-5f22-44f8-bd8e-1238150574b1",
     "showTitle": false,
     "tableResultSettingsMap": {},
     "title": ""
    }
   },
   "outputs": [],
   "source": [
    "# criação das tabelas no catálogo\n",
    "\n",
    "spark.sql(\"CREATE TABLE bronze.vendas USING DELTA LOCATION '/Volumes/workspace/default/dadosvendas/bronze/vendas'\")\n",
    "spark.sql(\"CREATE TABLE silver.vendas_enriquecidas USING DELTA LOCATION '/Volumes/workspace/default/dadosvendas/silver/vendas_enriquecidas'\")"
   ]
  },
  {
   "cell_type": "code",
   "execution_count": 0,
   "metadata": {
    "application/vnd.databricks.v1+cell": {
     "cellMetadata": {
      "byteLimit": 2048000,
      "rowLimit": 10000
     },
     "inputWidgets": {},
     "nuid": "88011d5f-68ed-4314-8b34-8d9c9ad6b3ee",
     "showTitle": false,
     "tableResultSettingsMap": {},
     "title": ""
    }
   },
   "outputs": [],
   "source": [
    "# VACUUM para limpar versões antigas dos nossos dados\n",
    "\n",
    "spark.sql(\"VACUUM bronze.vendas RETAIN 168 HOURS\")  # INDISPONÍVEL NO FREE EDITION\n",
    "spark.sql(\"VACUUM silver.vendas_enriquecidas RETAIN 168 HOURS\")  # INDISPONÍVEL NO FREE EDITION"
   ]
  },
  {
   "cell_type": "code",
   "execution_count": 0,
   "metadata": {
    "application/vnd.databricks.v1+cell": {
     "cellMetadata": {
      "byteLimit": 2048000,
      "rowLimit": 10000
     },
     "inputWidgets": {},
     "nuid": "478d2d82-c4ac-49e8-9d74-d8799220a018",
     "showTitle": false,
     "tableResultSettingsMap": {},
     "title": ""
    }
   },
   "outputs": [],
   "source": [
    "# OPTIMIZE para compactar arquivos pequenos em maiores, melhorand performance de leitura\n",
    "\n",
    "spark.sql(\"OPTIMIZE bronze.vendas\")  # INDISPONÍVEL NO FREE EDITION\n",
    "spark.sql(\"OPTIMIZE silver.vendas_enriquecidas\")  # INDISPONÍVEL NO FREE EDITION"
   ]
  },
  {
   "cell_type": "code",
   "execution_count": 0,
   "metadata": {
    "application/vnd.databricks.v1+cell": {
     "cellMetadata": {
      "byteLimit": 2048000,
      "rowLimit": 10000
     },
     "inputWidgets": {},
     "nuid": "2dc572be-cc62-494d-9a9b-bb6d03406426",
     "showTitle": false,
     "tableResultSettingsMap": {},
     "title": ""
    }
   },
   "outputs": [],
   "source": [
    "# Z-ORDER para otimização de consultas, clusteriza dados de colunas frequentes em filtros, acelerando queries com where em colunas específicas\n",
    "spark.sql(\"OPTIMIZE silver.vendas_enriquecidas ZORDER BY (data_venda, id_vendedor)\")  # INDISPONÍVEL NO FREE EDITION"
   ]
  },
  {
   "cell_type": "code",
   "execution_count": 0,
   "metadata": {
    "application/vnd.databricks.v1+cell": {
     "cellMetadata": {},
     "inputWidgets": {},
     "nuid": "f082ee89-2eb6-475a-9542-0ae35f1ae8b8",
     "showTitle": false,
     "tableResultSettingsMap": {},
     "title": ""
    }
   },
   "outputs": [],
   "source": [
    "# CACHE para armazenar em RAM tabelas frequentes, deixando bem mais rapidos nosso acesso nas consultas\n",
    "spark.sql(\"CACHE TABLE silver.vendas_enriquecidas\")  # INDISPONÍVEL NO FREE EDITION\n",
    "spark.sql(\"CACHE TABLE gold.kpi_vendedores\")  # INDISPONÍVEL NO FREE EDITION\n"
   ]
  }
 ],
 "metadata": {
  "application/vnd.databricks.v1+notebook": {
   "computePreferences": {
    "hardware": {
     "accelerator": null,
     "gpuPoolId": null,
     "memory": null
    }
   },
   "dashboards": [],
   "environmentMetadata": {
    "base_environment": "",
    "environment_version": "3"
   },
   "inputWidgetPreferences": null,
   "language": "python",
   "notebookMetadata": {
    "pythonIndentUnit": 4
   },
   "notebookName": "03_manutencao_otimizacao",
   "widgets": {}
  },
  "language_info": {
   "name": "python"
  }
 },
 "nbformat": 4,
 "nbformat_minor": 0
}